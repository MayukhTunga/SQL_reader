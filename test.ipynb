{
 "cells": [
  {
   "cell_type": "code",
   "execution_count": 296,
   "metadata": {},
   "outputs": [],
   "source": [
    "from langchain_google_genai import ChatGoogleGenerativeAI\n",
    "from dotenv import load_dotenv\n",
    "import os"
   ]
  },
  {
   "cell_type": "code",
   "execution_count": 297,
   "metadata": {},
   "outputs": [],
   "source": [
    "load_dotenv() \n",
    "api_key = os.getenv(\"GOOGLE_API_KEY\")"
   ]
  },
  {
   "cell_type": "code",
   "execution_count": 298,
   "metadata": {},
   "outputs": [],
   "source": [
    "llm  = ChatGoogleGenerativeAI(model = 'gemini-1.5-flash', api_key=api_key, temperature=0)"
   ]
  },
  {
   "cell_type": "code",
   "execution_count": 299,
   "metadata": {},
   "outputs": [],
   "source": [
    "from langchain.utilities import SQLDatabase \n",
    "db_user = \"root\"\n",
    "db_password =\"root\"\n",
    "db_host = \"localhost\"\n",
    "db_name = \"atliq_tshirts\"\n",
    "\n",
    "db = SQLDatabase.from_uri(f\"mysql+pymysql://{db_user}:{db_password}@{db_host}/{db_name}\")\n"
   ]
  },
  {
   "cell_type": "code",
   "execution_count": 293,
   "metadata": {},
   "outputs": [
    {
     "data": {
      "text/plain": [
       "\"[(1, 'Levi', 'Blue', 'L', 48, 63), (2, 'Van Huesen', 'Red', 'L', 39, 33), (3, 'Van Huesen', 'White', 'M', 35, 62), (4, 'Adidas', 'Red', 'S', 29, 65), (5, 'Nike', 'Blue', 'XS', 30, 14), (6, 'Nike', 'Blue', 'S', 42, 33), (7, 'Adidas', 'Black', 'S', 12, 26), (8, 'Nike', 'Red', 'S', 50, 32), (9, 'Van Huesen', 'Blue', 'S', 34, 92), (10, 'Nike', 'White', 'S', 28, 70), (12, 'Nike', 'Blue', 'L', 42, 89), (13, 'Adidas', 'Blue', 'M', 29, 97), (14, 'Levi', 'Red', 'M', 11, 77), (15, 'Nike', 'Black', 'S', 46, 49), (16, 'Nike', 'Red', 'M', 15, 12), (18, 'Adidas', 'Blue', 'L', 22, 34), (19, 'Levi', 'Red', 'XL', 20, 34), (20, 'Nike', 'Red', 'XS', 49, 53), (22, 'Levi', 'Blue', 'M', 42, 72), (23, 'Van Huesen', 'Red', 'XL', 30, 16), (24, 'Adidas', 'Red', 'M', 28, 77), (25, 'Levi', 'Black', 'S', 29, 53), (27, 'Levi', 'Black', 'XS', 11, 21), (28, 'Nike', 'Blue', 'XL', 22, 16), (29, 'Levi', 'White', 'S', 32, 96), (30, 'Van Huesen', 'Black', 'S', 47, 97), (32, 'Levi', 'Blue', 'S', 25, 89), (33, 'Van Huesen', 'Black', 'XL', 21, 50), (34, 'Levi', 'Black', 'L', 18, 73), (35, 'Adidas', 'White', 'M', 35, 57), (36, 'Nike', 'Red', 'L', 33, 16), (37, 'Nike', 'Black', 'XL', 13, 85), (39, 'Adidas', 'Red', 'L', 10, 12), (40, 'Van Huesen', 'Black', 'L', 33, 81), (42, 'Van Huesen', 'Blue', 'XS', 23, 28), (44, 'Adidas', 'Red', 'XL', 30, 58), (46, 'Nike', 'Blue', 'M', 30, 26), (47, 'Levi', 'Blue', 'XS', 18, 70), (48, 'Nike', 'Black', 'L', 46, 31), (49, 'Nike', 'White', 'XS', 50, 44), (50, 'Adidas', 'White', 'XS', 38, 50), (57, 'Van Huesen', 'Blue', 'L', 30, 29), (59, 'Adidas', 'White', 'XL', 26, 66), (60, 'Adidas', 'Blue', 'S', 39, 53), (61, 'Van Huesen', 'White', 'S', 44, 48), (62, 'Nike', 'White', 'XL', 31, 82), (68, 'Levi', 'Red', 'S', 44, 50), (69, 'Nike', 'Red', 'XL', 18, 16), (72, 'Van Huesen', 'White', 'L', 22, 39), (74, 'Nike', 'Black', 'XS', 30, 47), (83, 'Levi', 'Black', 'XL', 48, 83), (87, 'Adidas', 'Black', 'L', 42, 77), (90, 'Adidas', 'Blue', 'XL', 12, 83), (93, 'Van Huesen', 'White', 'XL', 26, 63), (94, 'Nike', 'White', 'L', 27, 89), (97, 'Van Huesen', 'Blue', 'M', 46, 92)]\""
      ]
     },
     "execution_count": 293,
     "metadata": {},
     "output_type": "execute_result"
    }
   ],
   "source": [
    "db.run(\"SELECT * FROM t_shirts\")"
   ]
  },
  {
   "cell_type": "code",
   "execution_count": 300,
   "metadata": {},
   "outputs": [],
   "source": [
    "def get_schema(_):\n",
    "    schema = db.get_table_info()\n",
    "    return schema"
   ]
  },
  {
   "cell_type": "code",
   "execution_count": 301,
   "metadata": {},
   "outputs": [],
   "source": [
    "from langchain_core.prompts import ChatPromptTemplate\n",
    "\n",
    "template = \"\"\"Based on the table schema below, write a SQL query that would answer the user's question:\n",
    "{schema}\n",
    "\n",
    "Question: {question}\n",
    "SQL Query:\"\"\"\n",
    "prompt = ChatPromptTemplate.from_template(template)\n"
   ]
  },
  {
   "cell_type": "code",
   "execution_count": 302,
   "metadata": {},
   "outputs": [],
   "source": [
    "def clean_sql_string(sql_string):\n",
    "    cleaned_string = sql_string.strip(\"```\").lstrip(\"sql\").strip()\n",
    "    return cleaned_string"
   ]
  },
  {
   "cell_type": "code",
   "execution_count": 303,
   "metadata": {},
   "outputs": [],
   "source": [
    "from langchain_core.output_parsers import StrOutputParser\n",
    "from langchain_core.runnables import RunnablePassthrough\n",
    "\n",
    "sql_chain = (\n",
    "    RunnablePassthrough.assign(schema=get_schema)\n",
    "    | prompt\n",
    "    | llm.bind(stop=[\"\\nSQLResult:\"])\n",
    "    | StrOutputParser()\n",
    ")\n"
   ]
  },
  {
   "cell_type": "code",
   "execution_count": 304,
   "metadata": {},
   "outputs": [],
   "source": [
    "q =sql_chain.invoke({\"question\": \"How many brands are there\"})"
   ]
  },
  {
   "cell_type": "code",
   "execution_count": 305,
   "metadata": {},
   "outputs": [
    {
     "name": "stdout",
     "output_type": "stream",
     "text": [
      "```sql\n",
      "SELECT COUNT(DISTINCT brand) AS brand_count\n",
      "FROM t_shirts;\n",
      "```\n"
     ]
    }
   ],
   "source": [
    "print(q)"
   ]
  },
  {
   "cell_type": "code",
   "execution_count": 306,
   "metadata": {},
   "outputs": [
    {
     "name": "stdout",
     "output_type": "stream",
     "text": [
      "SELECT COUNT(DISTINCT brand) AS brand_count\n",
      "FROM t_shirts;\n"
     ]
    }
   ],
   "source": [
    "q=clean_sql_string(q)\n",
    "print(q)"
   ]
  },
  {
   "cell_type": "code",
   "execution_count": 307,
   "metadata": {},
   "outputs": [
    {
     "data": {
      "text/plain": [
       "'[(4,)]'"
      ]
     },
     "execution_count": 307,
     "metadata": {},
     "output_type": "execute_result"
    }
   ],
   "source": [
    "db.run(q)"
   ]
  },
  {
   "cell_type": "code",
   "execution_count": 241,
   "metadata": {},
   "outputs": [
    {
     "data": {
      "text/plain": [
       "'[(44,)]'"
      ]
     },
     "execution_count": 241,
     "metadata": {},
     "output_type": "execute_result"
    }
   ],
   "source": [
    "db.run(\"SELECT stock_quantity FROM t_shirts WHERE brand = 'Nike' AND size = 'XS' AND color = 'White';\")"
   ]
  },
  {
   "cell_type": "code",
   "execution_count": 308,
   "metadata": {},
   "outputs": [],
   "source": [
    "template = \"\"\"Based on the table schema below, question, sql query, and sql response, write a natural language response:\n",
    "{schema}\n",
    "\n",
    "Question: {question}\n",
    "SQL Query: {query}\n",
    "SQL Response: {response}\"\"\"\n",
    "prompt_response = ChatPromptTemplate.from_template(template)"
   ]
  },
  {
   "cell_type": "code",
   "execution_count": 309,
   "metadata": {},
   "outputs": [],
   "source": [
    "def run_query(query):\n",
    "    return db.run(query)"
   ]
  },
  {
   "cell_type": "code",
   "execution_count": 312,
   "metadata": {},
   "outputs": [],
   "source": [
    "from operator import itemgetter\n",
    "full_chain = (\n",
    "    RunnablePassthrough.assign(query=sql_chain)\n",
    "    .assign(\n",
    "        schema=get_schema,\n",
    "        response=lambda vars: run_query(clean_sql_string(vars[\"query\"])), \n",
    "    )\n",
    "    | prompt_response\n",
    "    | llm\n",
    "    | StrOutputParser()\n",
    ")\n"
   ]
  },
  {
   "cell_type": "code",
   "execution_count": 311,
   "metadata": {},
   "outputs": [
    {
     "data": {
      "text/plain": [
       "'There are 4 different brands of t-shirts in the database. \\n'"
      ]
     },
     "execution_count": 311,
     "metadata": {},
     "output_type": "execute_result"
    }
   ],
   "source": [
    "full_chain.invoke({\"question\": \"How many brands are there in the database\"})"
   ]
  },
  {
   "cell_type": "code",
   "execution_count": 313,
   "metadata": {},
   "outputs": [
    {
     "data": {
      "text/plain": [
       "'We have 44 Nike t-shirts in stock that are extra small and white. \\n'"
      ]
     },
     "execution_count": 313,
     "metadata": {},
     "output_type": "execute_result"
    }
   ],
   "source": [
    "full_chain.invoke({\"question\":\"How many t-shirts do we have left in stock for nike in extra small and white color?\"})"
   ]
  }
 ],
 "metadata": {
  "kernelspec": {
   "display_name": "Python 3",
   "language": "python",
   "name": "python3"
  },
  "language_info": {
   "codemirror_mode": {
    "name": "ipython",
    "version": 3
   },
   "file_extension": ".py",
   "mimetype": "text/x-python",
   "name": "python",
   "nbconvert_exporter": "python",
   "pygments_lexer": "ipython3",
   "version": "3.11.4"
  }
 },
 "nbformat": 4,
 "nbformat_minor": 2
}
